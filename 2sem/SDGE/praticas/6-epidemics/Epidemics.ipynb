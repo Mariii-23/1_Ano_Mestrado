{
 "cells": [
  {
   "attachments": {},
   "cell_type": "markdown",
   "metadata": {},
   "source": [
    "# Epidemics\n",
    "\n",
    "Demonstration for Large Scale Distributed Systems."
   ]
  },
  {
   "cell_type": "markdown",
   "metadata": {},
   "source": [
    "## Simulator\n",
    "\n",
    "Each infectious element *i* of the population randomly selects *f* other distinct elements of the population:"
   ]
  },
  {
   "cell_type": "code",
   "execution_count": 1,
   "metadata": {},
   "outputs": [],
   "source": [
    "import random\n",
    "def sampler(n,f):\n",
    "    p = [ j for j in range(n-1) ]\n",
    "    return lambda i: [ j if j<i else j+1 for j in random.sample(p, f) ]"
   ]
  },
  {
   "cell_type": "markdown",
   "metadata": {},
   "source": [
    "In a round, each element *i* infected in a previous round (1) selects and tries to infect each *j* from a random sample of the population, if *j* has not been infected before and is susceptible (0). The round indicates if any new member has been infected, as otherwise the run has ended. Each *i* is then marked as recovered (2)."
   ]
  },
  {
   "cell_type": "code",
   "execution_count": 3,
   "metadata": {},
   "outputs": [],
   "source": [
    "def round(p,x,v):\n",
    "    np = p.copy()\n",
    "    chg = False\n",
    "    for i,s in enumerate(p):\n",
    "        if s==1:\n",
    "            np[i] = 2\n",
    "            for j in x(i):\n",
    "                v[j] += 1\n",
    "                if np[j] == 0:\n",
    "                    np[j] = 1\n",
    "            chg = True\n",
    "    return np,chg"
   ]
  },
  {
   "cell_type": "markdown",
   "metadata": {},
   "source": [
    "A simulation run starts with a single random member of the population infected (1) and performs rounds while the state of the population is changing."
   ]
  },
  {
   "cell_type": "code",
   "execution_count": 4,
   "metadata": {},
   "outputs": [],
   "source": [
    "def run(n,f):\n",
    "    x = sampler(n,f)\n",
    "    p = [0]*n\n",
    "    v = [0]*n\n",
    "    p[random.randint(0,n-1)] = 1\n",
    "    chg = True\n",
    "    while chg:\n",
    "        p,chg = round(p,x,v)\n",
    "    return v"
   ]
  },
  {
   "cell_type": "markdown",
   "metadata": {},
   "source": [
    "## Run"
   ]
  },
  {
   "cell_type": "markdown",
   "metadata": {},
   "source": [
    "We run *P* iterations for each fanout *1 <= f <= F* with a population o *N* members."
   ]
  },
  {
   "cell_type": "code",
   "execution_count": 5,
   "metadata": {},
   "outputs": [],
   "source": [
    "N = 200\n",
    "F = 13\n",
    "\n",
    "P = 100\n",
    "\n",
    "data = [ (f, i, j, 1 if j>0 else 0) for f in range(1,F) for i in range(P) for j in run(N,f) ]"
   ]
  },
  {
   "cell_type": "markdown",
   "metadata": {
    "scrolled": false
   },
   "source": [
    "In the data analysis we compute:\n",
    "* the mean number of infections for each fanout value\n",
    "* the number of iterations with complete infections, for each fanout value"
   ]
  },
  {
   "cell_type": "code",
   "execution_count": 6,
   "metadata": {
    "scrolled": false
   },
   "outputs": [],
   "source": [
    "import pandas as pd\n",
    "\n",
    "raw = pd.DataFrame(data, columns=['fanout','iter','value','infected'])\n",
    "\n",
    "meaninf = raw.groupby('fanout').agg({'infected': 'mean'})\n",
    "\n",
    "byiter = (raw.loc[raw['infected'] == 1].groupby(['fanout','iter']).size()/N).to_frame(name='del')\n",
    "meanatom = (byiter.loc[byiter['del'] == 1.0].groupby('fanout').size()/P).to_frame(name='atomic')\n",
    "\n",
    "result = meaninf.join(meanatom)"
   ]
  },
  {
   "cell_type": "markdown",
   "metadata": {},
   "source": [
    "The result can be compared to the expected probability of complete infection."
   ]
  },
  {
   "cell_type": "code",
   "execution_count": 7,
   "metadata": {},
   "outputs": [
    {
     "data": {
      "text/plain": [
       "[<matplotlib.lines.Line2D at 0x7f6a439b9f90>]"
      ]
     },
     "execution_count": 7,
     "metadata": {},
     "output_type": "execute_result"
    },
    {
     "data": {
      "image/png": "[encoded data removed]",
      "text/plain": [
       "<Figure size 432x288 with 1 Axes>"
      ]
     },
     "metadata": {
      "needs_background": "light"
     },
     "output_type": "display_data"
    }
   ],
   "source": [
    "import numpy as np\n",
    "from math import log\n",
    "import matplotlib.pyplot as plt\n",
    "\n",
    "x = np.array(range(12))\n",
    "y = np.exp(-np.exp(-(x-int(log(N)))))\n",
    "\n",
    "result.plot()\n",
    "plt.plot(x,y)"
   ]
  },
  {
   "cell_type": "markdown",
   "metadata": {},
   "source": [
    "Finally, we count the number of times each node is in contact with a an infected member."
   ]
  },
  {
   "cell_type": "code",
   "execution_count": 8,
   "metadata": {},
   "outputs": [
    {
     "data": {
      "text/plain": [
       "array([[<AxesSubplot: title={'center': '1'}>,\n",
       "        <AxesSubplot: title={'center': '2'}>,\n",
       "        <AxesSubplot: title={'center': '3'}>],\n",
       "       [<AxesSubplot: title={'center': '4'}>,\n",
       "        <AxesSubplot: title={'center': '5'}>,\n",
       "        <AxesSubplot: title={'center': '6'}>],\n",
       "       [<AxesSubplot: title={'center': '7'}>,\n",
       "        <AxesSubplot: title={'center': '8'}>,\n",
       "        <AxesSubplot: title={'center': '9'}>],\n",
       "       [<AxesSubplot: title={'center': '10'}>,\n",
       "        <AxesSubplot: title={'center': '11'}>,\n",
       "        <AxesSubplot: title={'center': '12'}>]], dtype=object)"
      ]
     },
     "execution_count": 8,
     "metadata": {},
     "output_type": "execute_result"
    },
    {
     "data": {
      "image/png": "[encoded data removed]",
      "text/plain": [
       "<Figure size 432x288 with 12 Axes>"
      ]
     },
     "metadata": {
      "needs_background": "light"
     },
     "output_type": "display_data"
    }
   ],
   "source": [
    "raw.hist(column='value', by='fanout')"
   ]
  }
 ],
 "metadata": {
  "kernelspec": {
   "display_name": "Python 3",
   "language": "python",
   "name": "python3"
  },
  "language_info": {
   "codemirror_mode": {
    "name": "ipython",
    "version": 3
   },
   "file_extension": ".py",
   "mimetype": "text/x-python",
   "name": "python",
   "nbconvert_exporter": "python",
   "pygments_lexer": "ipython3",
   "version": "3.11.2"
  }
 },
 "nbformat": 4,
 "nbformat_minor": 4
}
